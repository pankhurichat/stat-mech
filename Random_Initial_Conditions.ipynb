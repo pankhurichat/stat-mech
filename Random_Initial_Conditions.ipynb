{
 "cells": [
  {
   "cell_type": "code",
   "execution_count": 1,
   "metadata": {},
   "outputs": [],
   "source": [
    "import numpy as np\n",
    "import random"
   ]
  },
  {
   "cell_type": "markdown",
   "metadata": {},
   "source": [
    "#### Random assignment of positions and velocity"
   ]
  },
  {
   "cell_type": "code",
   "execution_count": 2,
   "metadata": {},
   "outputs": [],
   "source": [
    "L = 1.0  # Box edge length\n",
    "Natoms = 4  # Number of particles\n",
    "density = 0.18\n",
    "Ratom = np.sqrt(density / (Natoms * np.pi))  # Radius of atom\n",
    "\n",
    "# Initialize an empty array for positions\n",
    "positions = np.empty((0, 2), dtype=float) #column for positions\n",
    "\n",
    "while len(positions) < Natoms:\n",
    "    retry = False\n",
    "    # Generate a new position\n",
    "    a = np.array([random.uniform(Ratom, L - Ratom), random.uniform(Ratom, L - Ratom)]) #random x,y positions\n",
    "    \n",
    "    # Check for overlap with existing disks\n",
    "    for b in positions:\n",
    "        if np.linalg.norm(a - b) < 2.0 * Ratom:\n",
    "            retry = True\n",
    "            break\n",
    "    \n",
    "    # If no overlap, add the new position to the array\n",
    "    if not retry:\n",
    "        positions = np.append(positions, [a], axis=0)\n",
    "\n",
    "\n",
    "vavg = 1  # Average velocity\n",
    "\n",
    "# Generate random angles for each atom\n",
    "phis = 2 * np.pi * np.random.random(Natoms)\n",
    "\n",
    "# Calculate the velocity components\n",
    "vx = vavg * np.cos(phis)\n",
    "vy = vavg * np.sin(phis)\n",
    "\n",
    "# Combine the velocity components into a single array\n",
    "velocities = np.vstack((vx, vy)).T"
   ]
  },
  {
   "cell_type": "code",
   "execution_count": 3,
   "metadata": {},
   "outputs": [
    {
     "data": {
      "text/plain": [
       "(array([[-0.99771657, -0.06753989],\n",
       "        [ 0.20641026,  0.97846554],\n",
       "        [ 0.24186794, -0.97030918],\n",
       "        [ 0.88860608,  0.45867116]]),\n",
       " array([[0.24197568, 0.72093464],\n",
       "        [0.80850374, 0.55118983],\n",
       "        [0.76127701, 0.85639874],\n",
       "        [0.38672   , 0.19563537]]))"
      ]
     },
     "execution_count": 3,
     "metadata": {},
     "output_type": "execute_result"
    }
   ],
   "source": [
    "velocities,positions"
   ]
  },
  {
   "cell_type": "code",
   "execution_count": null,
   "metadata": {},
   "outputs": [],
   "source": []
  }
 ],
 "metadata": {
  "kernelspec": {
   "display_name": "Python 3 (ipykernel)",
   "language": "python",
   "name": "python3"
  },
  "language_info": {
   "codemirror_mode": {
    "name": "ipython",
    "version": 3
   },
   "file_extension": ".py",
   "mimetype": "text/x-python",
   "name": "python",
   "nbconvert_exporter": "python",
   "pygments_lexer": "ipython3",
   "version": "3.9.12"
  }
 },
 "nbformat": 4,
 "nbformat_minor": 2
}
